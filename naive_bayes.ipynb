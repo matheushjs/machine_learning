{
 "cells": [
  {
   "cell_type": "code",
   "execution_count": 1,
   "metadata": {
    "collapsed": true,
    "deletable": true,
    "editable": true
   },
   "outputs": [],
   "source": [
    "import numpy as np\n",
    "import pandas as pd"
   ]
  },
  {
   "cell_type": "code",
   "execution_count": 2,
   "metadata": {
    "collapsed": false,
    "deletable": true,
    "editable": true
   },
   "outputs": [
    {
     "data": {
      "text/html": [
       "<div>\n",
       "<table border=\"1\" class=\"dataframe\">\n",
       "  <thead>\n",
       "    <tr style=\"text-align: right;\">\n",
       "      <th></th>\n",
       "      <th>outlook</th>\n",
       "      <th>temp</th>\n",
       "      <th>humidity</th>\n",
       "      <th>windy</th>\n",
       "      <th>play</th>\n",
       "    </tr>\n",
       "  </thead>\n",
       "  <tbody>\n",
       "    <tr>\n",
       "      <th>0</th>\n",
       "      <td>sunny</td>\n",
       "      <td>hot</td>\n",
       "      <td>high</td>\n",
       "      <td>False</td>\n",
       "      <td>no</td>\n",
       "    </tr>\n",
       "    <tr>\n",
       "      <th>1</th>\n",
       "      <td>sunny</td>\n",
       "      <td>hot</td>\n",
       "      <td>high</td>\n",
       "      <td>True</td>\n",
       "      <td>no</td>\n",
       "    </tr>\n",
       "    <tr>\n",
       "      <th>2</th>\n",
       "      <td>overcast</td>\n",
       "      <td>hot</td>\n",
       "      <td>high</td>\n",
       "      <td>False</td>\n",
       "      <td>yes</td>\n",
       "    </tr>\n",
       "    <tr>\n",
       "      <th>3</th>\n",
       "      <td>rainy</td>\n",
       "      <td>mild</td>\n",
       "      <td>high</td>\n",
       "      <td>False</td>\n",
       "      <td>yes</td>\n",
       "    </tr>\n",
       "    <tr>\n",
       "      <th>4</th>\n",
       "      <td>rainy</td>\n",
       "      <td>cool</td>\n",
       "      <td>normal</td>\n",
       "      <td>False</td>\n",
       "      <td>yes</td>\n",
       "    </tr>\n",
       "    <tr>\n",
       "      <th>5</th>\n",
       "      <td>rainy</td>\n",
       "      <td>cool</td>\n",
       "      <td>normal</td>\n",
       "      <td>True</td>\n",
       "      <td>no</td>\n",
       "    </tr>\n",
       "    <tr>\n",
       "      <th>6</th>\n",
       "      <td>overcast</td>\n",
       "      <td>cool</td>\n",
       "      <td>normal</td>\n",
       "      <td>True</td>\n",
       "      <td>yes</td>\n",
       "    </tr>\n",
       "    <tr>\n",
       "      <th>7</th>\n",
       "      <td>sunny</td>\n",
       "      <td>mild</td>\n",
       "      <td>high</td>\n",
       "      <td>False</td>\n",
       "      <td>no</td>\n",
       "    </tr>\n",
       "    <tr>\n",
       "      <th>8</th>\n",
       "      <td>sunny</td>\n",
       "      <td>cool</td>\n",
       "      <td>normal</td>\n",
       "      <td>False</td>\n",
       "      <td>yes</td>\n",
       "    </tr>\n",
       "    <tr>\n",
       "      <th>9</th>\n",
       "      <td>rainy</td>\n",
       "      <td>mild</td>\n",
       "      <td>normal</td>\n",
       "      <td>False</td>\n",
       "      <td>yes</td>\n",
       "    </tr>\n",
       "    <tr>\n",
       "      <th>10</th>\n",
       "      <td>sunny</td>\n",
       "      <td>mild</td>\n",
       "      <td>normal</td>\n",
       "      <td>True</td>\n",
       "      <td>yes</td>\n",
       "    </tr>\n",
       "    <tr>\n",
       "      <th>11</th>\n",
       "      <td>overcast</td>\n",
       "      <td>mild</td>\n",
       "      <td>high</td>\n",
       "      <td>True</td>\n",
       "      <td>yes</td>\n",
       "    </tr>\n",
       "    <tr>\n",
       "      <th>12</th>\n",
       "      <td>overcast</td>\n",
       "      <td>hot</td>\n",
       "      <td>normal</td>\n",
       "      <td>False</td>\n",
       "      <td>yes</td>\n",
       "    </tr>\n",
       "    <tr>\n",
       "      <th>13</th>\n",
       "      <td>rainy</td>\n",
       "      <td>mild</td>\n",
       "      <td>high</td>\n",
       "      <td>True</td>\n",
       "      <td>no</td>\n",
       "    </tr>\n",
       "    <tr>\n",
       "      <th>14</th>\n",
       "      <td>sunny</td>\n",
       "      <td>hot</td>\n",
       "      <td>high</td>\n",
       "      <td>True</td>\n",
       "      <td>yes</td>\n",
       "    </tr>\n",
       "    <tr>\n",
       "      <th>15</th>\n",
       "      <td>sunny</td>\n",
       "      <td>mild</td>\n",
       "      <td>normal</td>\n",
       "      <td>False</td>\n",
       "      <td>yes</td>\n",
       "    </tr>\n",
       "    <tr>\n",
       "      <th>16</th>\n",
       "      <td>sunny</td>\n",
       "      <td>hot</td>\n",
       "      <td>normal</td>\n",
       "      <td>False</td>\n",
       "      <td>yes</td>\n",
       "    </tr>\n",
       "  </tbody>\n",
       "</table>\n",
       "</div>"
      ],
      "text/plain": [
       "     outlook  temp humidity  windy play\n",
       "0      sunny   hot     high  False   no\n",
       "1      sunny   hot     high   True   no\n",
       "2   overcast   hot     high  False  yes\n",
       "3      rainy  mild     high  False  yes\n",
       "4      rainy  cool   normal  False  yes\n",
       "5      rainy  cool   normal   True   no\n",
       "6   overcast  cool   normal   True  yes\n",
       "7      sunny  mild     high  False   no\n",
       "8      sunny  cool   normal  False  yes\n",
       "9      rainy  mild   normal  False  yes\n",
       "10     sunny  mild   normal   True  yes\n",
       "11  overcast  mild     high   True  yes\n",
       "12  overcast   hot   normal  False  yes\n",
       "13     rainy  mild     high   True   no\n",
       "14     sunny   hot     high   True  yes\n",
       "15     sunny  mild   normal  False  yes\n",
       "16     sunny   hot   normal  False  yes"
      ]
     },
     "execution_count": 2,
     "metadata": {},
     "output_type": "execute_result"
    }
   ],
   "source": [
    "df = pd.read_csv('tennis.csv')\n",
    "df"
   ]
  },
  {
   "cell_type": "code",
   "execution_count": 3,
   "metadata": {
    "collapsed": false,
    "deletable": true,
    "editable": true
   },
   "outputs": [
    {
     "data": {
      "text/plain": [
       "array([['sunny', 'hot', 'high', False, False],\n",
       "       ['sunny', 'hot', 'high', True, False],\n",
       "       ['overcast', 'hot', 'high', False, True],\n",
       "       ['rainy', 'mild', 'high', False, True],\n",
       "       ['rainy', 'cool', 'normal', False, True],\n",
       "       ['rainy', 'cool', 'normal', True, False],\n",
       "       ['overcast', 'cool', 'normal', True, True],\n",
       "       ['sunny', 'mild', 'high', False, False],\n",
       "       ['sunny', 'cool', 'normal', False, True],\n",
       "       ['rainy', 'mild', 'normal', False, True],\n",
       "       ['sunny', 'mild', 'normal', True, True],\n",
       "       ['overcast', 'mild', 'high', True, True],\n",
       "       ['overcast', 'hot', 'normal', False, True],\n",
       "       ['rainy', 'mild', 'high', True, False],\n",
       "       ['sunny', 'hot', 'high', True, True],\n",
       "       ['sunny', 'mild', 'normal', False, True],\n",
       "       ['sunny', 'hot', 'normal', False, True]], dtype=object)"
      ]
     },
     "execution_count": 3,
     "metadata": {},
     "output_type": "execute_result"
    }
   ],
   "source": [
    "df = np.array(df)\n",
    "df[:,-1] = df[:,-1] == 'yes'\n",
    "df"
   ]
  },
  {
   "cell_type": "code",
   "execution_count": 4,
   "metadata": {
    "collapsed": false,
    "deletable": true,
    "editable": true
   },
   "outputs": [
    {
     "name": "stdout",
     "output_type": "stream",
     "text": [
      "sunny 8 5 3\n",
      "True 7 4 3\n",
      "Plays\n"
     ]
    }
   ],
   "source": [
    "def naive(query):\n",
    "    prob = [1, 1]\n",
    "\n",
    "    true  = df[df[:,-1] == True]\n",
    "    false = df[df[:,-1] == False]\n",
    "\n",
    "    for col in range(len(query)):\n",
    "        if query[col] == None: continue\n",
    "\n",
    "        total = sum(df[:,col] == query[col])\n",
    "        t     = sum(true[:,col] == query[col])\n",
    "        f     = sum(false[:,col] == query[col])\n",
    "\n",
    "        print(query[col], total, t, f)\n",
    "\n",
    "        prob[0] *= f/total\n",
    "        prob[1] *= t/total\n",
    "\n",
    "    prob[0] *= len(false) / len(df)\n",
    "    prob[1] *= len(true) / len(df)\n",
    "\n",
    "    s = sum(prob)\n",
    "    prob[0] /= s\n",
    "    prob[1] /= s\n",
    "    \n",
    "    return \"Plays\" if prob.index(max(prob)) == 1 else \"Does not play\"\n",
    "\n",
    "prob = naive([ 'sunny', None, None, True ])\n",
    "print(prob)"
   ]
  },
  {
   "cell_type": "code",
   "execution_count": 12,
   "metadata": {
    "collapsed": false
   },
   "outputs": [
    {
     "data": {
      "text/plain": [
       "'Does not play'"
      ]
     },
     "execution_count": 12,
     "metadata": {},
     "output_type": "execute_result"
    }
   ],
   "source": [
    "def naive2(query):\n",
    "    # Count total amount of 'play' and 'does not play'\n",
    "    total_false = sum(df[:,-1] == False)\n",
    "    total_true  = sum(df[:,-1] == True)\n",
    "    total = total_false + total_true\n",
    "\n",
    "    prob = [1, 1]\n",
    "\n",
    "    # For each item in the query. Say 'sunny'\n",
    "    for col in range(len(query)):\n",
    "        # If item is None, skip it\n",
    "        if query[col] is None: continue\n",
    "\n",
    "        # Get all tuples that correspond to 'sunny'\n",
    "        tuples = df[df[:,col] == query[col]]\n",
    "        \n",
    "        # Count number of times he doesnt play when it is 'sunny'\n",
    "        f = sum(tuples[:,-1] == False)\n",
    "\n",
    "        # Count number of times he does play\n",
    "        t = sum(tuples[:,-1] == True)\n",
    "\n",
    "        # Add to the product P(plays | 'sunny')\n",
    "        prob[1] *= (t / total_true)\n",
    "\n",
    "        # Add to the product P(don't play | 'sunny')\n",
    "        prob[0] *= (f / total_false)\n",
    "\n",
    "    # Multiply each probability by the respective P(h) where h = 'plays' or 'not play'\n",
    "    prob[0] *= total_false / total\n",
    "    prob[1] *= total_true / total\n",
    "\n",
    "    # Normalize\n",
    "    s = sum(prob)\n",
    "    prob[0] /= s\n",
    "    prob[1] /= s\n",
    "    \n",
    "    return 'Plays' if prob.index(max(prob)) == 1 else 'Does not play'\n",
    "    # return prob\n",
    "\n",
    "naive2([None, None, 'high', None])"
   ]
  },
  {
   "cell_type": "code",
   "execution_count": 17,
   "metadata": {
    "collapsed": false
   },
   "outputs": [
    {
     "data": {
      "text/plain": [
       "array([['sunny', 'hot', 'high', False, False],\n",
       "       ['sunny', 'hot', 'high', True, False],\n",
       "       ['overcast', 'hot', 'high', False, True],\n",
       "       ['rainy', 'mild', 'high', False, True],\n",
       "       ['sunny', 'mild', 'high', False, False],\n",
       "       ['overcast', 'mild', 'high', True, True],\n",
       "       ['rainy', 'mild', 'high', True, False],\n",
       "       ['sunny', 'hot', 'high', True, True]], dtype=object)"
      ]
     },
     "execution_count": 17,
     "metadata": {},
     "output_type": "execute_result"
    }
   ],
   "source": [
    "df[df[:,2]=='high']"
   ]
  }
 ],
 "metadata": {
  "kernelspec": {
   "display_name": "Python 3",
   "language": "python",
   "name": "python3"
  },
  "language_info": {
   "codemirror_mode": {
    "name": "ipython",
    "version": 3
   },
   "file_extension": ".py",
   "mimetype": "text/x-python",
   "name": "python",
   "nbconvert_exporter": "python",
   "pygments_lexer": "ipython3",
   "version": "3.5.2"
  }
 },
 "nbformat": 4,
 "nbformat_minor": 2
}
