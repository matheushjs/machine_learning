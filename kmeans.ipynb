{
 "cells": [
  {
   "cell_type": "code",
   "execution_count": 148,
   "metadata": {},
   "outputs": [],
   "source": [
    "import numpy as np\n",
    "import matplotlib.pyplot as plt\n",
    "from sklearn.datasets import load_iris"
   ]
  },
  {
   "cell_type": "code",
   "execution_count": 149,
   "metadata": {},
   "outputs": [
    {
     "data": {
      "text/plain": [
       "<matplotlib.collections.PathCollection at 0x7f83d4a91518>"
      ]
     },
     "execution_count": 149,
     "metadata": {},
     "output_type": "execute_result"
    },
    {
     "data": {
      "image/png": "[encoded data removed]",
      "text/plain": [
       "<Figure size 432x288 with 1 Axes>"
      ]
     },
     "metadata": {},
     "output_type": "display_data"
    }
   ],
   "source": [
    "# We create some data\n",
    "d1 = np.random.normal(loc=6, scale=3.5, size=200).reshape(100, 2)\n",
    "d2 = np.random.normal(loc=1, scale=2, size=200).reshape(100, 2)\n",
    "\n",
    "plt.scatter(d1[:,0], d1[:,1], c=\"r\")\n",
    "plt.scatter(d2[:,0], d2[:,1], c=\"r\")"
   ]
  },
  {
   "cell_type": "code",
   "execution_count": 150,
   "metadata": {},
   "outputs": [],
   "source": [
    "# We place all data in a single matrix\n",
    "data = np.concatenate([d1, d2])"
   ]
  },
  {
   "cell_type": "code",
   "execution_count": 151,
   "metadata": {},
   "outputs": [
    {
     "data": {
      "text/plain": [
       "((200, 2), array([[ 4.18875166e+00,  4.11735079e+00],\n",
       "        [ 2.07812131e+00,  1.47246353e+00],\n",
       "        [ 8.85851429e+00,  9.74987593e+00],\n",
       "        [ 1.08507233e+01, -6.65124831e+00],\n",
       "        [ 9.65149720e+00,  9.82968325e+00],\n",
       "        [ 1.02580372e+01,  6.63029432e+00],\n",
       "        [ 7.16915030e+00,  5.29015075e+00],\n",
       "        [ 5.04332463e+00,  5.33812668e+00],\n",
       "        [ 9.21097513e+00,  5.23992715e+00],\n",
       "        [ 1.18705024e+01,  1.03611937e+01],\n",
       "        [ 7.49453898e+00,  4.04215566e+00],\n",
       "        [ 1.51021903e+00, -1.00225845e+00],\n",
       "        [ 3.67089186e+00,  6.71230843e+00],\n",
       "        [ 2.00305992e+00,  8.34574794e+00],\n",
       "        [ 6.35028064e+00,  2.88871278e+00],\n",
       "        [ 1.90997823e+00,  4.27821912e+00],\n",
       "        [ 6.54232702e+00, -7.52393271e-02],\n",
       "        [ 1.53419352e+00,  4.78126773e+00],\n",
       "        [ 5.51664300e-01,  1.11446035e+01],\n",
       "        [ 9.88213314e+00,  6.01804378e+00],\n",
       "        [ 7.53771834e+00,  1.06914105e+01],\n",
       "        [ 6.61603147e+00,  3.63910007e+00],\n",
       "        [-1.15858929e+00,  1.02433945e+01],\n",
       "        [ 7.86954105e+00,  1.57671830e+01],\n",
       "        [ 8.31682633e+00,  4.01029614e+00],\n",
       "        [ 7.76430809e+00,  4.98631828e+00],\n",
       "        [ 1.81144512e+00,  4.67126502e+00],\n",
       "        [ 6.44597025e+00,  1.60737822e+00],\n",
       "        [ 1.56294214e+00,  9.78981143e+00],\n",
       "        [ 9.04561192e+00,  7.34116970e+00],\n",
       "        [-2.74917353e+00,  4.65605009e+00],\n",
       "        [ 5.04116512e+00,  1.95310168e+00],\n",
       "        [ 8.25111818e+00,  1.17414560e+01],\n",
       "        [ 2.84141449e+00,  5.26990293e+00],\n",
       "        [ 1.16427010e+01,  5.63824070e+00],\n",
       "        [ 7.35068876e+00,  6.42565343e+00],\n",
       "        [ 9.05510977e+00,  4.48385470e+00],\n",
       "        [ 1.29543614e+00,  7.42465866e+00],\n",
       "        [ 6.73210232e+00,  2.05983572e+00],\n",
       "        [ 3.03206721e+00,  6.02362711e+00],\n",
       "        [ 4.31672952e+00,  7.93485042e+00],\n",
       "        [ 1.01212157e+01,  7.05219472e+00],\n",
       "        [ 6.41737627e+00,  4.23248135e+00],\n",
       "        [ 5.97905498e+00,  6.75514357e+00],\n",
       "        [ 6.96648798e+00,  9.44213168e+00],\n",
       "        [ 7.14977119e+00,  4.91201222e+00],\n",
       "        [ 9.68327949e+00,  2.95367012e+00],\n",
       "        [ 4.12142945e+00,  2.53355768e+00],\n",
       "        [ 4.66927193e+00,  3.53545800e+00],\n",
       "        [ 8.57641369e+00,  7.53483355e+00],\n",
       "        [ 1.40974218e+01,  4.20456890e+00],\n",
       "        [ 7.31096734e+00,  9.48408387e+00],\n",
       "        [ 8.10631572e+00,  5.31226437e+00],\n",
       "        [ 2.98269736e+00,  8.59603280e+00],\n",
       "        [ 8.80309222e-01,  7.46301646e+00],\n",
       "        [ 3.60171734e+00,  7.08305308e+00],\n",
       "        [ 1.01921676e+01,  8.85412484e+00],\n",
       "        [ 2.98229987e+00,  5.59139865e+00],\n",
       "        [-6.66311645e-01, -2.36302563e+00],\n",
       "        [ 3.37427728e+00,  1.07240102e+01],\n",
       "        [-1.43261459e-01,  7.29768771e+00],\n",
       "        [ 5.39166001e+00, -9.58481378e-01],\n",
       "        [ 4.26733149e+00,  6.15523030e+00],\n",
       "        [ 3.38237332e+00,  3.75548757e+00],\n",
       "        [ 4.11778525e+00,  5.67230417e+00],\n",
       "        [ 4.44099625e+00,  9.30047996e+00],\n",
       "        [ 3.39952906e+00,  6.67766677e+00],\n",
       "        [ 4.77058361e+00,  1.03068457e+01],\n",
       "        [ 5.61202682e+00, -1.81723922e+00],\n",
       "        [ 8.67646903e+00,  1.15606829e+01],\n",
       "        [ 9.17065254e-01,  1.03404353e+01],\n",
       "        [ 6.61387275e+00,  8.18362533e+00],\n",
       "        [ 3.95191390e+00,  2.19823199e+00],\n",
       "        [ 4.43415627e+00,  4.02257691e+00],\n",
       "        [ 3.94611907e+00,  8.05650143e+00],\n",
       "        [ 4.56319108e+00, -3.81003010e+00],\n",
       "        [ 7.96357917e+00,  1.93959080e+00],\n",
       "        [ 2.68352852e+00,  2.92068861e+00],\n",
       "        [ 6.00506772e+00,  8.15992963e+00],\n",
       "        [ 1.43201783e+01,  1.05371080e+01],\n",
       "        [ 6.06005878e+00,  1.06240624e+01],\n",
       "        [ 5.05941934e+00, -3.79063868e-01],\n",
       "        [ 7.74553745e+00,  5.40521671e+00],\n",
       "        [ 6.75581303e+00,  3.38580122e+00],\n",
       "        [ 2.67480797e-01,  7.15989890e+00],\n",
       "        [ 8.92512081e+00,  6.40198547e+00],\n",
       "        [ 7.95108329e+00,  7.81035533e+00],\n",
       "        [ 7.94667021e+00,  6.57130130e+00],\n",
       "        [ 6.30830188e+00,  9.57592573e+00],\n",
       "        [-4.98821099e-01,  8.55070876e+00],\n",
       "        [ 6.51742487e+00,  8.64905335e+00],\n",
       "        [ 4.31549201e+00,  7.77648683e+00],\n",
       "        [ 9.72029459e+00,  2.02548058e+00],\n",
       "        [ 6.54108866e-01,  8.16243022e+00],\n",
       "        [ 1.14268428e+01,  1.99087263e+00],\n",
       "        [ 9.35445084e+00,  6.74737338e+00],\n",
       "        [ 6.24847401e+00,  3.52781119e+00],\n",
       "        [ 6.96959038e+00,  8.41086602e+00],\n",
       "        [ 4.85195316e+00,  1.47630197e-02],\n",
       "        [ 8.41663973e+00,  9.86625067e+00],\n",
       "        [ 4.24124514e+00, -1.18476221e-01],\n",
       "        [ 6.46031504e-01,  2.88237278e+00],\n",
       "        [-4.21555878e-01,  3.71377026e+00],\n",
       "        [ 4.46557718e-01,  1.41705972e+00],\n",
       "        [ 1.19654608e+00,  2.27534856e+00],\n",
       "        [-2.99816962e+00, -5.18424040e-02],\n",
       "        [ 1.38375231e+00, -1.44218765e+00],\n",
       "        [ 6.63552998e-01, -6.43879922e-01],\n",
       "        [ 3.94727040e+00,  1.91790681e+00],\n",
       "        [-7.05734787e-01,  1.47685980e-01],\n",
       "        [ 1.43498834e+00, -7.70194923e-01],\n",
       "        [ 6.22719980e+00,  6.75642488e+00],\n",
       "        [ 1.74096349e+00, -1.58158950e+00],\n",
       "        [-4.10124079e-01,  1.68758100e+00],\n",
       "        [-3.96016007e-01,  2.75985553e+00],\n",
       "        [ 6.81705622e-01,  3.74826552e-01],\n",
       "        [-1.17941048e+00, -2.53973202e+00],\n",
       "        [-3.80670224e-01,  7.80485216e-01],\n",
       "        [ 4.51233257e+00,  4.40028678e+00],\n",
       "        [-9.22935241e-02, -3.01824879e-01],\n",
       "        [-6.57662790e-01,  1.49564848e+00],\n",
       "        [ 8.11615045e-02, -1.25504621e+00],\n",
       "        [ 7.00851041e-01,  1.74959771e+00],\n",
       "        [ 7.71976110e-01, -8.55513179e-01],\n",
       "        [ 4.03013144e+00,  6.39602639e-01],\n",
       "        [ 6.48242814e-01,  4.69471374e-01],\n",
       "        [-1.96980407e+00, -1.11921188e+00],\n",
       "        [ 1.76180578e+00,  1.35968910e+00],\n",
       "        [ 4.60943039e+00, -5.76882650e-01],\n",
       "        [ 2.79452443e-01,  3.66826973e+00],\n",
       "        [ 1.85356463e+00,  1.94425586e+00],\n",
       "        [ 1.02637944e-01, -8.91161520e-01],\n",
       "        [ 5.73276556e-01, -1.05803802e+00],\n",
       "        [ 1.94004474e+00,  3.93509143e+00],\n",
       "        [ 3.16174218e+00,  3.37840600e+00],\n",
       "        [ 4.34663535e+00,  6.75317620e-01],\n",
       "        [-1.38922951e-02, -1.00582368e+00],\n",
       "        [ 6.13168119e+00,  1.89948258e+00],\n",
       "        [ 3.87791290e+00, -7.78691746e-02],\n",
       "        [-1.26881593e-01,  6.51822382e-01],\n",
       "        [-6.85614547e-01,  1.20123794e+00],\n",
       "        [-3.38205615e+00,  1.20715806e-01],\n",
       "        [-6.12959792e-01,  2.90995222e+00],\n",
       "        [ 3.79036645e+00, -1.44752282e+00],\n",
       "        [ 5.89200173e+00,  4.10510742e-01],\n",
       "        [ 3.46532519e-01, -2.07857301e+00],\n",
       "        [ 2.64906409e+00,  5.27271792e-03],\n",
       "        [ 1.34578220e+00, -8.60372040e-01],\n",
       "        [-1.21905940e-01,  2.46267863e+00],\n",
       "        [ 5.54377825e-01,  1.13738484e+00],\n",
       "        [ 3.82297032e+00,  3.52594123e+00],\n",
       "        [ 4.09689798e+00,  1.31764313e+00],\n",
       "        [-1.60369725e+00,  3.45376809e-01],\n",
       "        [-5.10954727e-01, -1.17989025e+00],\n",
       "        [-1.19292031e+00,  9.79012387e-01],\n",
       "        [ 1.12361396e+00,  3.27543737e+00],\n",
       "        [ 3.70126939e+00,  1.04447077e+00],\n",
       "        [ 6.87081465e+00,  3.89222174e+00],\n",
       "        [ 5.81584518e-01,  3.30706218e+00],\n",
       "        [ 2.07203992e+00,  4.01138988e-01],\n",
       "        [ 7.24215786e-01, -5.68858408e-01],\n",
       "        [ 1.85445988e+00,  4.67258854e+00],\n",
       "        [ 1.74204282e+00,  1.86369236e+00],\n",
       "        [ 1.37697228e-01,  9.12530065e-02],\n",
       "        [-3.93941971e-01,  2.00512286e-01],\n",
       "        [-1.13934283e+00,  3.66354239e-01],\n",
       "        [ 2.07988170e-01,  1.95049471e-01],\n",
       "        [ 2.16191089e+00,  3.59201543e+00],\n",
       "        [-4.28635857e+00, -1.50708050e+00],\n",
       "        [ 1.36245148e+00, -2.00012343e+00],\n",
       "        [ 3.37025258e+00, -4.85053711e-01],\n",
       "        [ 3.09350951e+00,  1.28864223e+00],\n",
       "        [-9.84031645e-01,  7.99994601e-01],\n",
       "        [-2.45078566e+00, -4.59296859e-02],\n",
       "        [-2.84806262e+00,  1.34990417e-01],\n",
       "        [ 2.41627408e+00, -9.63953723e-01],\n",
       "        [ 2.25419972e+00,  3.36731798e+00],\n",
       "        [ 8.22343876e-01,  3.65035676e+00],\n",
       "        [ 3.28921137e+00,  5.76482954e-01],\n",
       "        [-1.32795730e-01,  3.25890203e+00],\n",
       "        [ 2.92162785e+00,  3.68698662e+00],\n",
       "        [ 6.41292145e-01,  5.58801130e-01],\n",
       "        [-2.10544647e+00,  2.92081043e+00],\n",
       "        [ 3.45719175e-01, -2.46633418e-02],\n",
       "        [ 2.54988265e+00,  3.73756193e-01],\n",
       "        [-1.76278347e+00,  1.89610351e+00],\n",
       "        [-2.05364221e+00,  1.91938034e+00],\n",
       "        [ 1.52869671e-01,  4.38923722e+00],\n",
       "        [-1.41802851e+00,  2.85199049e+00],\n",
       "        [ 6.11750738e-01,  3.60004501e+00],\n",
       "        [-6.02834797e-01,  2.73146736e-02],\n",
       "        [ 1.46856825e+00,  8.65268837e-01],\n",
       "        [ 4.33850312e-01, -9.32730103e-01],\n",
       "        [-1.10691600e+00,  3.24614168e+00],\n",
       "        [ 3.92084477e+00,  2.12867297e+00],\n",
       "        [-5.77194961e-01,  1.26764283e+00],\n",
       "        [ 1.68453702e+00,  3.24697021e-02],\n",
       "        [ 1.74815644e+00, -5.70232019e-01],\n",
       "        [-1.25824037e+00, -8.12211365e-01],\n",
       "        [-5.87089321e+00, -1.15206679e+00]]))"
      ]
     },
     "execution_count": 151,
     "metadata": {},
     "output_type": "execute_result"
    }
   ],
   "source": [
    "data.shape, data"
   ]
  },
  {
   "cell_type": "code",
   "execution_count": 155,
   "metadata": {},
   "outputs": [
    {
     "name": "stdout",
     "output_type": "stream",
     "text": [
      "1.915584799477521\n",
      "0.7687495662142114\n",
      "0.5064517156806829\n",
      "0.4333030516981885\n",
      "0.31642198106938435\n",
      "0.2695254262177842\n",
      "0.33684388751811173\n",
      "0.28672398352324135\n",
      "0.24510298838012573\n",
      "0.14161560087299968\n",
      "0.019413348883174884\n",
      "0.0\n",
      "[[-0.1439853   0.65546461]\n",
      " [ 4.82993788  1.50169247]\n",
      " [ 2.3223528   7.26875418]\n",
      " [ 8.57852503  7.48844113]]\n"
     ]
    }
   ],
   "source": [
    "# We define our training function\n",
    "def kmeans_train(dataset, k=2, threshold=1e-3):\n",
    "    # Generate random centers\n",
    "    minimum = np.min(dataset, axis=0)\n",
    "    maximum = np.max(dataset, axis=0)\n",
    "    \n",
    "    centers = np.column_stack([ np.linspace(minimum[i], maximum[i], k) for i in range(minimum.shape[0]) ])\n",
    "    \n",
    "    # Improve centers\n",
    "    error = 2*threshold\n",
    "    while error > threshold:\n",
    "        nearest = np.zeros(dataset.shape[0])\n",
    "        \n",
    "        # Find nearest neighbors to the centroids\n",
    "        for i in range(dataset.shape[0]):\n",
    "            point = dataset[i]\n",
    "            distances = np.sqrt(np.sum( (centers - point)**2, axis=1 ))\n",
    "            nearest[i] = np.argmin(distances)\n",
    "            \n",
    "        # Get new centroids\n",
    "        newCenters = np.copy(centers)\n",
    "        for i in range(centers.shape[0]):\n",
    "            points = dataset[np.argwhere(nearest == i)[:,0]]\n",
    "            newCenters[i] = np.mean(points, axis=0)\n",
    "            \n",
    "        # Calculate error\n",
    "        error = np.sum(np.abs(centers - newCenters)) / centers.size\n",
    "        centers = newCenters\n",
    "        print(error)\n",
    "    \n",
    "    return centers\n",
    "    \n",
    "centers = kmeans_train(data, k=4)\n",
    "print(centers)"
   ]
  },
  {
   "cell_type": "code",
   "execution_count": 156,
   "metadata": {},
   "outputs": [
    {
     "data": {
      "text/plain": [
       "3"
      ]
     },
     "execution_count": 156,
     "metadata": {},
     "output_type": "execute_result"
    }
   ],
   "source": [
    "# Now we define the prediction function\n",
    "def kmeans_test(centers, query):\n",
    "    distances = np.sqrt(np.sum((query - centers) ** 2, axis=1))\n",
    "    return np.argmin(distances)\n",
    "\n",
    "kmeans_test(centers, [10,10])"
   ]
  },
  {
   "cell_type": "code",
   "execution_count": 157,
   "metadata": {},
   "outputs": [
    {
     "data": {
      "text/plain": [
       "<matplotlib.collections.PathCollection at 0x7f83d4a03470>"
      ]
     },
     "execution_count": 157,
     "metadata": {},
     "output_type": "execute_result"
    },
    {
     "data": {
      "image/png": "[encoded data removed]",
      "text/plain": [
       "<Figure size 432x288 with 1 Axes>"
      ]
     },
     "metadata": {},
     "output_type": "display_data"
    }
   ],
   "source": [
    "# We plot the classified points\n",
    "colors = []\n",
    "for i in data:\n",
    "    colors.append(kmeans_test(centers, i))\n",
    "\n",
    "plt.scatter(data[:,0], data[:,1], c=colors)"
   ]
  },
  {
   "cell_type": "code",
   "execution_count": null,
   "metadata": {},
   "outputs": [],
   "source": []
  },
  {
   "cell_type": "code",
   "execution_count": null,
   "metadata": {},
   "outputs": [],
   "source": []
  },
  {
   "cell_type": "code",
   "execution_count": null,
   "metadata": {},
   "outputs": [],
   "source": []
  },
  {
   "cell_type": "code",
   "execution_count": null,
   "metadata": {},
   "outputs": [],
   "source": []
  },
  {
   "cell_type": "code",
   "execution_count": null,
   "metadata": {},
   "outputs": [],
   "source": []
  },
  {
   "cell_type": "code",
   "execution_count": null,
   "metadata": {},
   "outputs": [],
   "source": []
  },
  {
   "cell_type": "code",
   "execution_count": null,
   "metadata": {},
   "outputs": [],
   "source": []
  },
  {
   "cell_type": "code",
   "execution_count": null,
   "metadata": {},
   "outputs": [],
   "source": []
  },
  {
   "cell_type": "code",
   "execution_count": null,
   "metadata": {},
   "outputs": [],
   "source": []
  },
  {
   "cell_type": "code",
   "execution_count": null,
   "metadata": {},
   "outputs": [],
   "source": []
  },
  {
   "cell_type": "code",
   "execution_count": null,
   "metadata": {},
   "outputs": [],
   "source": []
  }
 ],
 "metadata": {
  "kernelspec": {
   "display_name": "Python 3",
   "language": "python",
   "name": "python3"
  },
  "language_info": {
   "codemirror_mode": {
    "name": "ipython",
    "version": 3
   },
   "file_extension": ".py",
   "mimetype": "text/x-python",
   "name": "python",
   "nbconvert_exporter": "python",
   "pygments_lexer": "ipython3",
   "version": "3.5.2"
  }
 },
 "nbformat": 4,
 "nbformat_minor": 2
}
