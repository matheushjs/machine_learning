{
 "cells": [
  {
   "cell_type": "code",
   "execution_count": 1,
   "metadata": {
    "collapsed": true
   },
   "outputs": [],
   "source": [
    "import numpy as np\n",
    "import matplotlib.pyplot as mpl"
   ]
  },
  {
   "cell_type": "code",
   "execution_count": 40,
   "metadata": {
    "collapsed": false
   },
   "outputs": [
    {
     "data": {
      "image/png": "[encoded data removed]",
      "text/plain": [
       "<matplotlib.figure.Figure at 0x7f3e4ae1bd30>"
      ]
     },
     "metadata": {},
     "output_type": "display_data"
    }
   ],
   "source": [
    "# We create some data\n",
    "d1 = np.stack(\n",
    "    [np.random.uniform(high=1.5, low=0, size=100), np.random.uniform(high=1.5, low=0, size=100), np.repeat(1, 100)],\n",
    "    axis=1)\n",
    "d2 = np.stack(\n",
    "    [np.random.uniform(high=2.5, low=1, size=100), np.random.uniform(high=2.5, low=1, size=100), np.repeat(2,100)],\n",
    "    axis=1)\n",
    "\n",
    "mpl.scatter(d1[:,0], d1[:,1], c=\"r\")\n",
    "mpl.scatter(d2[:,0], d2[:,1], c=\"b\")\n",
    "mpl.show()"
   ]
  },
  {
   "cell_type": "code",
   "execution_count": 85,
   "metadata": {
    "collapsed": false
   },
   "outputs": [
    {
     "name": "stdout",
     "output_type": "stream",
     "text": [
      "Class:  2.0\n"
     ]
    }
   ],
   "source": [
    "# We make our function\n",
    "def knn(dataset, query, k=3):\n",
    "    # Get distances\n",
    "    dist = np.sqrt(np.sum((dataset[:,:-1] - query) ** 2, axis=1))\n",
    "    \n",
    "    # Sort distances and get indexes (increasing order)\n",
    "    index = np.argsort(dist)\n",
    "\n",
    "    # Get the K first points\n",
    "    nearest = dataset[index[:k]]\n",
    "    \n",
    "    # Get classes\n",
    "    classes = np.unique(dataset[:,-1])\n",
    "    count = [ sum(nearest[:,-1] == i) for i in classes ]\n",
    "    \n",
    "    # Get maximum\n",
    "    idx = np.argmax(count)\n",
    "    \n",
    "    # Return class\n",
    "    print(\"Class: \", classes[idx])\n",
    "    \n",
    "knn(np.concatenate([d1, d2]), [2.5, 0.5])"
   ]
  }
 ],
 "metadata": {
  "kernelspec": {
   "display_name": "Python 3",
   "language": "python",
   "name": "python3"
  },
  "language_info": {
   "codemirror_mode": {
    "name": "ipython",
    "version": 3
   },
   "file_extension": ".py",
   "mimetype": "text/x-python",
   "name": "python",
   "nbconvert_exporter": "python",
   "pygments_lexer": "ipython3",
   "version": "3.5.2"
  }
 },
 "nbformat": 4,
 "nbformat_minor": 2
}
