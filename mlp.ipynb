{
 "cells": [
  {
   "cell_type": "code",
   "execution_count": 49,
   "metadata": {},
   "outputs": [],
   "source": [
    "import numpy as np\n",
    "import matplotlib.pyplot as plt\n",
    "from sklearn.datasets import load_iris"
   ]
  },
  {
   "cell_type": "code",
   "execution_count": 50,
   "metadata": {},
   "outputs": [
    {
     "data": {
      "text/plain": [
       "array([[5.1, 1.4, 1. , 0. , 0. ],\n",
       "       [4.9, 1.4, 1. , 0. , 0. ],\n",
       "       [4.7, 1.3, 1. , 0. , 0. ],\n",
       "       [4.6, 1.5, 1. , 0. , 0. ],\n",
       "       [5. , 1.4, 1. , 0. , 0. ]])"
      ]
     },
     "execution_count": 50,
     "metadata": {},
     "output_type": "execute_result"
    }
   ],
   "source": [
    "iris = load_iris()\n",
    "\n",
    "data = np.column_stack([iris['data'], iris['target'] == 0, iris['target'] == 1, iris['target'] == 2 ])\n",
    "\n",
    "# Initially we will make a prediction using only 2 columns\n",
    "data = np.column_stack([data[:,0], data[:,2], data[:,-3:]])\n",
    "data[:5]"
   ]
  },
  {
   "cell_type": "code",
   "execution_count": 51,
   "metadata": {},
   "outputs": [
    {
     "data": {
      "text/plain": [
       "<matplotlib.collections.PathCollection at 0x7f7d2560fc88>"
      ]
     },
     "execution_count": 51,
     "metadata": {},
     "output_type": "execute_result"
    },
    {
     "data": {
      "image/png": "[encoded data removed]",
      "text/plain": [
       "<Figure size 432x288 with 1 Axes>"
      ]
     },
     "metadata": {},
     "output_type": "display_data"
    }
   ],
   "source": [
    "# Let's plot the 2 columns\n",
    "plt.scatter(data[:,0], data[:,1], c=iris['target'])"
   ]
  },
  {
   "cell_type": "code",
   "execution_count": 103,
   "metadata": {},
   "outputs": [],
   "source": [
    "f  = np.vectorize(lambda x: 1 / (1 + np.exp(-x)))\n",
    "df = np.vectorize(lambda x: f(x) * (1 - f(x)))\n",
    "\n",
    "# Calculates net()\n",
    "net = lambda w, x, theta: w.dot(x) + theta\n",
    "\n",
    "class MLP:\n",
    "    def __init__(self, inputLength=2, hiddenLength=3, outputLength=3):\n",
    "        self.inputLength = inputLength\n",
    "        self.hiddenLength = hiddenLength\n",
    "        self.outputLength = outputLength\n",
    "        \n",
    "        # Theta vector\n",
    "        self.hiddenTheta = np.random.uniform(low=-0.5, high=0.5, size=hiddenLength)\n",
    "        self.outputTheta = np.random.uniform(low=-0.5, high=0.5, size=outputLength)\n",
    "        \n",
    "        # Weights arrays\n",
    "        self.hiddenWeight = np.random.uniform(\n",
    "                low=-0.5, high=0.5, size=inputLength*hiddenLength\n",
    "            ).reshape(hiddenLength, inputLength)\n",
    "        self.outputWeight = np.random.uniform(\n",
    "                low=-0.5, high=0.5, size=hiddenLength*outputLength\n",
    "            ).reshape(outputLength, hiddenLength)\n",
    "\n",
    "    def forward(self, query):\n",
    "        # First we calculate f(net) of the hidden layer\n",
    "        hiddenFNet = np.zeros(self.hiddenLength)\n",
    "        for i in range(self.hiddenLength):\n",
    "            hiddenFNet[i] = f(net(self.hiddenWeight[i], query, self.hiddenTheta[i]))\n",
    "        \n",
    "        # Then we calculate net of the output layer\n",
    "        outputFNet = np.zeros(self.outputLength)\n",
    "        for i in range(self.outputLength):\n",
    "            outputFNet[i] = f(net(self.outputWeight[i], hiddenFNet, self.outputTheta[i]))\n",
    "        \n",
    "        return outputFNet\n",
    "    \n",
    "    def _train(self, inp, out, eta):\n",
    "        # Since we'll use f(net) and df(net) plenty of times, we calculate it already\n",
    "        hiddenFNet = np.zeros(self.hiddenLength)\n",
    "        hiddenDFNet = np.zeros(self.hiddenLength)\n",
    "        for i in range(self.hiddenLength):\n",
    "            n = net(self.hiddenWeight[i], inp, self.hiddenTheta[i])\n",
    "            hiddenFNet[i] = f(n)\n",
    "            hiddenDFNet[i] = df(n)\n",
    "        \n",
    "        outputFNet = np.zeros(self.outputLength)\n",
    "        outputDFNet = np.zeros(self.outputLength)\n",
    "        for i in range(self.outputLength):\n",
    "            n = net(self.outputWeight[i], hiddenFNet, self.outputTheta[i])\n",
    "            outputFNet[i] = f(n)\n",
    "            outputDFNet[i] = df(n)\n",
    "        \n",
    "        # Update output layer weights\n",
    "        for k in range(self.outputLength):\n",
    "            for j in range(self.hiddenLength):\n",
    "                self.outputWeight[k][j] = \\\n",
    "                    self.outputWeight[k][j] - eta * \\\n",
    "                    (-2 * (out[k] - outputFNet[k]) * outputDFNet[k] * hiddenFNet[j])\n",
    "        \n",
    "        # Update output layer thetas\n",
    "        for k in range(self.outputLength):\n",
    "            self.outputTheta[k] = \\\n",
    "                self.outputTheta[k] - eta * \\\n",
    "                (-2 * (out[k] - outputFNet[k]) * outputDFNet[k])\n",
    "        \n",
    "        # Update hidden layer weights together with thetas (cuz of data dependence).        \n",
    "        for j in range(self.hiddenLength):\n",
    "            for i in range(self.inputLength):\n",
    "                sigma = np.sum([\n",
    "                    (out[k] - outputFNet[k]) * \\\n",
    "                    outputDFNet[k] * \\\n",
    "                    self.outputWeight[k][j] \\\n",
    "                    for k in range(self.outputLength)\n",
    "                ])\n",
    "                \n",
    "                self.hiddenWeight[j][i] = \\\n",
    "                    self.hiddenWeight[j][i] - eta * \\\n",
    "                    (-2 * hiddenDFNet[j] * inp[i] * sigma)\n",
    "                    \n",
    "                self.hiddenTheta[j] = \\\n",
    "                    self.hiddenTheta[j] - eta * \\\n",
    "                    (-2 * hiddenDFNet[j] * sigma)\n",
    "    \n",
    "    def backward(self, dataset, eta=0.5, maxIter=10**2, threshold=1e-5):\n",
    "        if len(dataset[0]) != self.inputLength + self.outputLength:\n",
    "            print(\"Dataset does not comply with defined MLP architecture.\")\n",
    "            return\n",
    "        \n",
    "        for i in range(maxIter):\n",
    "            print(\"Iteration: \", i);\n",
    "            squared_error = 0\n",
    "            \n",
    "            for row in dataset:\n",
    "                inp = row[:self.inputLength]\n",
    "                out = row[self.inputLength:]\n",
    "                \n",
    "                squared_error += np.sum(out - self.forward(inp))**2\n",
    "                self._train(inp, out, eta)\n",
    "            \n",
    "            squared_error /= dataset.shape[0]\n",
    "            print(\"Error: \", squared_error)\n",
    "            if(squared_error <= threshold):\n",
    "                print(\"Convergence reached.\")\n",
    "                return\n",
    "        \n",
    "        print(\"Max iterations reached.\")\n"
   ]
  },
  {
   "cell_type": "code",
   "execution_count": 104,
   "metadata": {},
   "outputs": [],
   "source": [
    "# Normalize the data\n",
    "d = data[:,0]\n",
    "data[:,0] = (d - min(d)) / (max(d) - min(d))\n",
    "\n",
    "d = data[:,1]\n",
    "data[:,1] = (d - min(d)) / (max(d) - min(d))"
   ]
  },
  {
   "cell_type": "code",
   "execution_count": 105,
   "metadata": {},
   "outputs": [
    {
     "name": "stdout",
     "output_type": "stream",
     "text": [
      "Iteration:  0\n",
      "Error:  0.021506517232465803\n",
      "Iteration:  1\n",
      "Error:  0.0036772794291688687\n",
      "Iteration:  2\n",
      "Error:  0.004325580056291689\n",
      "Iteration:  3\n",
      "Error:  0.0050316144216910295\n",
      "Iteration:  4\n",
      "Error:  0.005940570276495197\n",
      "Iteration:  5\n",
      "Error:  0.006922805952954449\n",
      "Iteration:  6\n",
      "Error:  0.008077566100551544\n",
      "Iteration:  7\n",
      "Error:  0.009647019253680236\n",
      "Iteration:  8\n",
      "Error:  0.01157059368979535\n",
      "Iteration:  9\n",
      "Error:  0.013553834109050991\n",
      "Max iterations reached.\n"
     ]
    }
   ],
   "source": [
    "mlp = MLP()\n",
    "\n",
    "mlp.backward(data, maxIter=10, threshold=1e-4, eta=0.2)"
   ]
  },
  {
   "cell_type": "code",
   "execution_count": 106,
   "metadata": {},
   "outputs": [
    {
     "name": "stdout",
     "output_type": "stream",
     "text": [
      "[0.22222222 0.06779661 1.         0.         0.        ] [0.03255318 0.11953653 0.89568024]\n",
      "[0.30555556 0.08474576 1.         0.         0.        ] [0.03255318 0.11953653 0.89568024]\n",
      "[0.30555556 0.11864407 1.         0.         0.        ] [0.03255318 0.11953653 0.89568024]\n",
      "[0.13888889 0.10169492 1.         0.         0.        ] [0.03255318 0.11953653 0.89568024]\n",
      "[0.19444444 0.05084746 1.         0.         0.        ] [0.03255318 0.11953653 0.89568024]\n",
      "[0.75       0.62711864 0.         1.         0.        ] [0.03255318 0.11953653 0.89568024]\n",
      "[0.19444444 0.42372881 0.         1.         0.        ] [0.03255318 0.11953653 0.89568024]\n",
      "[0.44444444 0.6440678  0.         1.         0.        ] [0.03255318 0.11953653 0.89568024]\n",
      "[0.33333333 0.47457627 0.         1.         0.        ] [0.03255318 0.11953653 0.89568024]\n",
      "[0.33333333 0.57627119 0.         1.         0.        ] [0.03255318 0.11953653 0.89568024]\n",
      "[0.55555556 0.84745763 0.         0.         1.        ] [0.03255318 0.11953653 0.89568024]\n",
      "[0.61111111 0.69491525 0.         0.         1.        ] [0.03255318 0.11953653 0.89568024]\n",
      "[0.72222222 0.79661017 0.         0.         1.        ] [0.03255318 0.11953653 0.89568024]\n",
      "[0.86111111 0.86440678 0.         0.         1.        ] [0.03255318 0.11953653 0.89568024]\n",
      "[0.66666667 0.77966102 0.         0.         1.        ] [0.03255318 0.11953653 0.89568024]\n"
     ]
    }
   ],
   "source": [
    "err = 0\n",
    "for i in range(data.shape[0]//10):\n",
    "    print(data[i*10], mlp.forward(data[N][:2]))"
   ]
  },
  {
   "cell_type": "code",
   "execution_count": null,
   "metadata": {},
   "outputs": [],
   "source": []
  },
  {
   "cell_type": "code",
   "execution_count": null,
   "metadata": {},
   "outputs": [],
   "source": []
  },
  {
   "cell_type": "code",
   "execution_count": null,
   "metadata": {},
   "outputs": [],
   "source": []
  },
  {
   "cell_type": "code",
   "execution_count": null,
   "metadata": {},
   "outputs": [],
   "source": []
  },
  {
   "cell_type": "code",
   "execution_count": null,
   "metadata": {},
   "outputs": [],
   "source": []
  }
 ],
 "metadata": {
  "kernelspec": {
   "display_name": "Python 3",
   "language": "python",
   "name": "python3"
  },
  "language_info": {
   "codemirror_mode": {
    "name": "ipython",
    "version": 3
   },
   "file_extension": ".py",
   "mimetype": "text/x-python",
   "name": "python",
   "nbconvert_exporter": "python",
   "pygments_lexer": "ipython3",
   "version": "3.5.2"
  }
 },
 "nbformat": 4,
 "nbformat_minor": 2
}
