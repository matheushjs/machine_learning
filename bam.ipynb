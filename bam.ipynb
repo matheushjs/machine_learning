{
 "cells": [
  {
   "cell_type": "code",
   "execution_count": 2,
   "metadata": {},
   "outputs": [],
   "source": [
    "import numpy as np\n",
    "import matplotlib.pyplot as plt"
   ]
  },
  {
   "cell_type": "code",
   "execution_count": 79,
   "metadata": {},
   "outputs": [],
   "source": [
    "x1 = np.matrix([1, -1, 1, -1, 1, -1])\n",
    "x2 = np.matrix([1, 1, 1, -1, -1, -1])\n",
    "\n",
    "y1 = np.matrix([1, -1, 1, -1])\n",
    "y2 = np.matrix([1, 1, -1, -1])"
   ]
  },
  {
   "cell_type": "code",
   "execution_count": 80,
   "metadata": {},
   "outputs": [
    {
     "data": {
      "text/plain": [
       "matrix([[ 2,  0,  0, -2],\n",
       "        [ 0,  2, -2,  0],\n",
       "        [ 2,  0,  0, -2],\n",
       "        [-2,  0,  0,  2],\n",
       "        [ 0, -2,  2,  0],\n",
       "        [-2,  0,  0,  2]])"
      ]
     },
     "execution_count": 80,
     "metadata": {},
     "output_type": "execute_result"
    }
   ],
   "source": [
    "A = x1.transpose() @ y1 + x2.transpose() @ y2\n",
    "A"
   ]
  },
  {
   "cell_type": "code",
   "execution_count": 81,
   "metadata": {},
   "outputs": [],
   "source": [
    "def normalize(v):\n",
    "    v[v < 0] = -1\n",
    "    v[v > 0] = 1\n",
    "    v[v == 0] = np.random.choice([1, -1], size=1)\n",
    "    return v"
   ]
  },
  {
   "cell_type": "code",
   "execution_count": 82,
   "metadata": {},
   "outputs": [
    {
     "data": {
      "text/plain": [
       "(matrix([[ 1, -1,  1, -1,  1, -1],\n",
       "         [ 1,  1,  1, -1, -1, -1]]), matrix([[ 1, -1,  1, -1],\n",
       "         [ 1,  1, -1, -1]]))"
      ]
     },
     "execution_count": 82,
     "metadata": {},
     "output_type": "execute_result"
    }
   ],
   "source": [
    "X = np.stack([x1, x2])\n",
    "Y = np.stack([y1, y2])\n",
    "\n",
    "X, Y"
   ]
  },
  {
   "cell_type": "code",
   "execution_count": 83,
   "metadata": {},
   "outputs": [
    {
     "data": {
      "text/plain": [
       "matrix([[ 2,  0,  0, -2],\n",
       "        [ 0,  2, -2,  0],\n",
       "        [ 2,  0,  0, -2],\n",
       "        [-2,  0,  0,  2],\n",
       "        [ 0, -2,  2,  0],\n",
       "        [-2,  0,  0,  2]])"
      ]
     },
     "execution_count": 83,
     "metadata": {},
     "output_type": "execute_result"
    }
   ],
   "source": [
    "A = X.transpose() @ Y\n",
    "A"
   ]
  },
  {
   "cell_type": "code",
   "execution_count": 112,
   "metadata": {
    "scrolled": false
   },
   "outputs": [
    {
     "name": "stdout",
     "output_type": "stream",
     "text": [
      "[[ 1 -1  1 -1  1 -1]] [[-1 -1  1 -1  1 -1]]\n",
      "[[ 1 -1  1 -1]] [[ 1 -1  1 -1]]\n",
      "[[16]]\n"
     ]
    }
   ],
   "source": [
    "p1 = np.copy(X[0])\n",
    "p1[0,0] = -p1[0,0]\n",
    "\n",
    "print(X[0], p1)\n",
    "print(normalize(p1 @ A), Y[0])\n",
    "print(p1 @ A @ Y[0].transpose())"
   ]
  },
  {
   "cell_type": "code",
   "execution_count": 119,
   "metadata": {
    "scrolled": true
   },
   "outputs": [
    {
     "name": "stdout",
     "output_type": "stream",
     "text": [
      "[[ 1 -1  1 -1]]\n",
      "Entropy:  [[16]]\n",
      "[[ 1 -1  1 -1  1 -1]]\n",
      "[[ 1 -1  1 -1]]\n",
      "Entropy:  [[24]]\n",
      "[[ 1 -1  1 -1  1 -1]]\n",
      "[[ 1 -1  1 -1]]\n",
      "Entropy:  [[24]]\n"
     ]
    }
   ],
   "source": [
    "s1 = normalize(p1 @ A)\n",
    "print(s1)\n",
    "print(\"Entropy: \", p1 @ A @ s1.transpose())\n",
    "p2 = normalize(s1 @ A.transpose())\n",
    "print(p2)\n",
    "s2 = normalize(p2 @ A)\n",
    "print(s2)\n",
    "print(\"Entropy: \", p2 @ A @ s2.transpose())\n",
    "p3 = normalize(s2 @ A.transpose())\n",
    "print(p3)\n",
    "s3 = normalize(p3 @ A)\n",
    "print(s3)\n",
    "print(\"Entropy: \", p3 @ A @ s3.transpose())"
   ]
  },
  {
   "cell_type": "code",
   "execution_count": null,
   "metadata": {},
   "outputs": [],
   "source": []
  }
 ],
 "metadata": {
  "kernelspec": {
   "display_name": "Python 3",
   "language": "python",
   "name": "python3"
  },
  "language_info": {
   "codemirror_mode": {
    "name": "ipython",
    "version": 3
   },
   "file_extension": ".py",
   "mimetype": "text/x-python",
   "name": "python",
   "nbconvert_exporter": "python",
   "pygments_lexer": "ipython3",
   "version": "3.5.2"
  }
 },
 "nbformat": 4,
 "nbformat_minor": 2
}
